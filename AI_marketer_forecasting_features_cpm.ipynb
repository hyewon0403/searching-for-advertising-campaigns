{
  "cells": [
    {
      "cell_type": "markdown",
      "source": [
        "## 광고 시뮬레이션 모형 구축"
      ],
      "metadata": {
        "id": "mE30FZXAfEAQ"
      }
    },
    {
      "cell_type": "markdown",
      "metadata": {
        "id": "i_2dBycAe6U5"
      },
      "source": [
        "### 1. 데이터 불러오기 및 전처리\n",
        "---"
      ]
    },
    {
      "cell_type": "code",
      "execution_count": null,
      "metadata": {
        "id": "NM4DoxD5e6VA",
        "outputId": "0727fa07-2434-424c-8931-66abfe509783"
      },
      "outputs": [
        {
          "name": "stdout",
          "output_type": "stream",
          "text": [
            "['NANUMBARUNGOTHIC']\n"
          ]
        }
      ],
      "source": [
        "import pandas as pd\n",
        "import numpy as np\n",
        "import pymysql\n",
        "from scipy.stats import norm\n",
        "from sklearn.preprocessing import StandardScaler\n",
        "from scipy import stats\n",
        "from scipy.special import boxcox, inv_boxcox\n",
        "import warnings\n",
        "warnings.filterwarnings('ignore')\n",
        "from sklearn.linear_model import LinearRegression\n",
        "from sklearn.preprocessing import OneHotEncoder\n",
        "from sklearn.metrics import mean_squared_error, r2_score\n",
        "import lightgbm as lgb\n",
        "import gc\n",
        "import os\n",
        "import csv\n",
        "\n",
        "# 그래프 관련 패키지\n",
        "import seaborn as sns\n",
        "import matplotlib.pyplot as plt\n",
        "\n",
        "plt.rc('font', family = 'NANUMBARUNGOTHIC')\n",
        "print(plt.rcParams['font.family'])\n",
        "\n",
        "%matplotlib inline"
      ]
    },
    {
      "cell_type": "code",
      "execution_count": null,
      "metadata": {
        "id": "GEQMUssse6VE"
      },
      "outputs": [],
      "source": [
        "# DB 접속(정보 생략)\n",
        "conn = pymysql.connect()"
      ]
    },
    {
      "cell_type": "code",
      "execution_count": null,
      "metadata": {
        "scrolled": true,
        "id": "t1tbVkeoe6VF"
      },
      "outputs": [],
      "source": [
        "# 네이버 데이터 쿼리 호출\n",
        "query = 'SELECT statDate, t1.campaignId, adGroupId, adGroupName, adGroupTypeName, deviceType, \\\n",
        "                SUM(amtExecution) AS amtExecution, SUM(adCost) AS adCost, SUM(impressionCnt) AS impressionCnt, SUM(clickCnt) AS clickCnt, SUM(viewCnt) AS viewCnt, \\\n",
        "                SUM(firstQuarterPlayCnt) AS firstQuarterPlayCnt, SUM(midpointPlayCnt) AS midpointPlayCnt, SUM(thirdQuarterPlayCnt) AS thirdQuarterPlayCnt, SUM(completePlayCnt) AS completePlayCnt, \\\n",
        "                advertiser, brand, businessMain, businessSub, NULL AS userConvCnt\\\n",
        "        FROM naverNospAdStatDaily AS t1, naverNospCampaign AS t2 WHERE t1.campaignId = t2.campaignId AND t1.statDate BETWEEN \"20190101\" and \"20190930\"\\\n",
        "        GROUP BY statDate, t1.campaignId, adGroupId, adGroupName, adGroupTypeName, deviceType\\\n",
        "        UNION\\\n",
        "        SELECT statDate, t3.campaignId, adGroupId, adGroupName, adGroupTypeName, deviceType, \\\n",
        "                SUM(amtExecution) AS amtExecution, SUM(adCost) AS adCost, SUM(impressionCnt) AS impressionCnt, SUM(clickCnt) AS clickCnt, SUM(viewCnt) AS viewCnt, \\\n",
        "                SUM(firstQuarterPlayCnt) AS firstQuarterPlayCnt, SUM(midpointPlayCnt) AS midpointPlayCnt, SUM(thirdQuarterPlayCnt) AS thirdQuarterPlayCnt, SUM(completePlayCnt) AS completePlayCnt,\\\n",
        "                advertiser, brand, businessMain, businessSub, userConvCnt\\\n",
        "        FROM CPMSDB.naverNospAdStatDaily AS t3, CPMSDB.naverNospCampaign AS t4 WHERE t3.campaignId = t4.campaignId AND t3.statDate >= \"20191001\"\\\n",
        "        GROUP BY statDate, t3.campaignId, adGroupId, adGroupName, adGroupTypeName, deviceType'\n",
        "\n",
        "# query1 = 'SELECT DISTINCT t1.campaignId, t3.brandId AS cmBrandId, t3.brandName AS cmBrandName, t4.companyId AS cmCompanyId, t4.companyName AS cmCompanyName,\\\n",
        "#                 t5.businessTypeId AS cmBusinessTypeId, t5.businessTypeName AS cmBusinessTypeName, t6.categoryId AS cmCategoryId, t6.categoryName AS cmCategoryName\\\n",
        "#         FROM CPMSDB.CpmsMediaDataLink AS t1, CPMSDB.CpmsCampaign AS t2, rainbow.Brand AS t3, rainbow.Company AS t4, rainbow.BusinessType AS t5, rainbow.BusinessCategory AS t6\\\n",
        "#         WHERE t1.cpmsCampaignId = t2.campaignId AND t2.brandId = t3.brandId AND t3.companyId = t4.companyId AND t5.businessTypeId = t6.businessTypeId AND t3.categoryId = t6.categoryId\\\n",
        "#                 AND t1.mediaCode = \"008001\" AND t2.deleteFlag = \"N\"'### name 정보 추가!\n",
        "\n",
        "df = pd.read_sql(query, conn) # CPMSDB와 datacenterdb의 데이터 추출\n",
        "# brand_cpms = pd.read_sql(query1, conn) # 기입력된 CPMSDB의 광고주 정보를 가져옴.\n",
        "# brand_cpms['campaignId'] = brand_cpms['campaignId'].astype('int64') # campaignId가 'string' 형태로 들어오기 때문에 정수형으로 변경\n",
        "\n",
        "# df = pd.merge(df, brand_cpms, how = 'left', on = 'campaignId') # CPMSDB의 광고주 정보 붙이기"
      ]
    },
    {
      "cell_type": "code",
      "execution_count": null,
      "metadata": {
        "id": "QIjt5Yune6VH",
        "outputId": "6ff05a2d-d238-41fb-ed5d-e1fcb23df14c"
      },
      "outputs": [
        {
          "data": {
            "text/html": [
              "<div>\n",
              "<style scoped>\n",
              "    .dataframe tbody tr th:only-of-type {\n",
              "        vertical-align: middle;\n",
              "    }\n",
              "\n",
              "    .dataframe tbody tr th {\n",
              "        vertical-align: top;\n",
              "    }\n",
              "\n",
              "    .dataframe thead th {\n",
              "        text-align: right;\n",
              "    }\n",
              "</style>\n",
              "<table border=\"1\" class=\"dataframe\">\n",
              "  <thead>\n",
              "    <tr style=\"text-align: right;\">\n",
              "      <th></th>\n",
              "      <th>statDate</th>\n",
              "      <th>campaignId</th>\n",
              "      <th>adGroupId</th>\n",
              "      <th>adGroupName</th>\n",
              "      <th>adGroupTypeName</th>\n",
              "      <th>deviceType</th>\n",
              "      <th>amtExecution</th>\n",
              "      <th>adCost</th>\n",
              "      <th>impressionCnt</th>\n",
              "      <th>clickCnt</th>\n",
              "      <th>viewCnt</th>\n",
              "      <th>firstQuarterPlayCnt</th>\n",
              "      <th>midpointPlayCnt</th>\n",
              "      <th>thirdQuarterPlayCnt</th>\n",
              "      <th>completePlayCnt</th>\n",
              "      <th>advertiser</th>\n",
              "      <th>brand</th>\n",
              "      <th>businessMain</th>\n",
              "      <th>businessSub</th>\n",
              "      <th>userConvCnt</th>\n",
              "    </tr>\n",
              "  </thead>\n",
              "  <tbody>\n",
              "    <tr>\n",
              "      <th>0</th>\n",
              "      <td>20190101</td>\n",
              "      <td>1217984</td>\n",
              "      <td>1930902</td>\n",
              "      <td>M_메인_연애결혼_브랜딩DA</td>\n",
              "      <td>배너_이미지형</td>\n",
              "      <td>M</td>\n",
              "      <td>571440.0</td>\n",
              "      <td>571440.0</td>\n",
              "      <td>253094.0</td>\n",
              "      <td>1254.0</td>\n",
              "      <td>0.0</td>\n",
              "      <td>0.0</td>\n",
              "      <td>0.0</td>\n",
              "      <td>0.0</td>\n",
              "      <td>0.0</td>\n",
              "      <td>엘오케이(유)</td>\n",
              "      <td>비오템</td>\n",
              "      <td>화장품/생활용품</td>\n",
              "      <td>화장품</td>\n",
              "      <td>NaN</td>\n",
              "    </tr>\n",
              "    <tr>\n",
              "      <th>1</th>\n",
              "      <td>20190101</td>\n",
              "      <td>1218616</td>\n",
              "      <td>1950642</td>\n",
              "      <td>P_사전_우측배너_통합</td>\n",
              "      <td>배너_이미지/플래시형</td>\n",
              "      <td>P</td>\n",
              "      <td>410589.0</td>\n",
              "      <td>373220.0</td>\n",
              "      <td>471928.0</td>\n",
              "      <td>213.0</td>\n",
              "      <td>0.0</td>\n",
              "      <td>0.0</td>\n",
              "      <td>0.0</td>\n",
              "      <td>0.0</td>\n",
              "      <td>0.0</td>\n",
              "      <td>사이버한국외국어대학교</td>\n",
              "      <td>사이버한국외국어대학교</td>\n",
              "      <td>교육/출판</td>\n",
              "      <td>사이버대학교</td>\n",
              "      <td>NaN</td>\n",
              "    </tr>\n",
              "    <tr>\n",
              "      <th>2</th>\n",
              "      <td>20190101</td>\n",
              "      <td>1218943</td>\n",
              "      <td>1935181</td>\n",
              "      <td>M_메인_여행_콘텐츠DA_가로플리킹형</td>\n",
              "      <td>콘텐츠_메인_가로플리킹형</td>\n",
              "      <td>M</td>\n",
              "      <td>714288.0</td>\n",
              "      <td>714288.0</td>\n",
              "      <td>219994.0</td>\n",
              "      <td>5031.0</td>\n",
              "      <td>0.0</td>\n",
              "      <td>0.0</td>\n",
              "      <td>0.0</td>\n",
              "      <td>0.0</td>\n",
              "      <td>0.0</td>\n",
              "      <td>주식회사 노랑풍선</td>\n",
              "      <td>노랑풍선</td>\n",
              "      <td>서비스</td>\n",
              "      <td>여행/숙박</td>\n",
              "      <td>NaN</td>\n",
              "    </tr>\n",
              "    <tr>\n",
              "      <th>3</th>\n",
              "      <td>20190101</td>\n",
              "      <td>1218983</td>\n",
              "      <td>1935360</td>\n",
              "      <td>M_메인_여행_콘텐츠DA_가로플리킹형</td>\n",
              "      <td>콘텐츠_메인_가로플리킹형</td>\n",
              "      <td>M</td>\n",
              "      <td>714288.0</td>\n",
              "      <td>714288.0</td>\n",
              "      <td>219748.0</td>\n",
              "      <td>3357.0</td>\n",
              "      <td>0.0</td>\n",
              "      <td>0.0</td>\n",
              "      <td>0.0</td>\n",
              "      <td>0.0</td>\n",
              "      <td>0.0</td>\n",
              "      <td>캐나다 관광청, 한국사무소</td>\n",
              "      <td>캐나다관광청</td>\n",
              "      <td>관공서/단체</td>\n",
              "      <td>단체</td>\n",
              "      <td>NaN</td>\n",
              "    </tr>\n",
              "    <tr>\n",
              "      <th>4</th>\n",
              "      <td>20190101</td>\n",
              "      <td>1218988</td>\n",
              "      <td>1937350</td>\n",
              "      <td>PM_네이버 동영상_15초 SKIP</td>\n",
              "      <td>동영상_15초 SKIP형</td>\n",
              "      <td>M</td>\n",
              "      <td>955860.0</td>\n",
              "      <td>796550.0</td>\n",
              "      <td>56896.0</td>\n",
              "      <td>339.0</td>\n",
              "      <td>51058.0</td>\n",
              "      <td>54405.0</td>\n",
              "      <td>52471.0</td>\n",
              "      <td>51704.0</td>\n",
              "      <td>51002.0</td>\n",
              "      <td>엘오케이(유)</td>\n",
              "      <td>키엘</td>\n",
              "      <td>화장품/생활용품</td>\n",
              "      <td>화장품</td>\n",
              "      <td>NaN</td>\n",
              "    </tr>\n",
              "  </tbody>\n",
              "</table>\n",
              "</div>"
            ],
            "text/plain": [
              "   statDate  campaignId adGroupId           adGroupName adGroupTypeName  \\\n",
              "0  20190101     1217984   1930902       M_메인_연애결혼_브랜딩DA         배너_이미지형   \n",
              "1  20190101     1218616   1950642          P_사전_우측배너_통합     배너_이미지/플래시형   \n",
              "2  20190101     1218943   1935181  M_메인_여행_콘텐츠DA_가로플리킹형   콘텐츠_메인_가로플리킹형   \n",
              "3  20190101     1218983   1935360  M_메인_여행_콘텐츠DA_가로플리킹형   콘텐츠_메인_가로플리킹형   \n",
              "4  20190101     1218988   1937350   PM_네이버 동영상_15초 SKIP   동영상_15초 SKIP형   \n",
              "\n",
              "  deviceType  amtExecution    adCost  impressionCnt  clickCnt  viewCnt  \\\n",
              "0          M      571440.0  571440.0       253094.0    1254.0      0.0   \n",
              "1          P      410589.0  373220.0       471928.0     213.0      0.0   \n",
              "2          M      714288.0  714288.0       219994.0    5031.0      0.0   \n",
              "3          M      714288.0  714288.0       219748.0    3357.0      0.0   \n",
              "4          M      955860.0  796550.0        56896.0     339.0  51058.0   \n",
              "\n",
              "   firstQuarterPlayCnt  midpointPlayCnt  thirdQuarterPlayCnt  completePlayCnt  \\\n",
              "0                  0.0              0.0                  0.0              0.0   \n",
              "1                  0.0              0.0                  0.0              0.0   \n",
              "2                  0.0              0.0                  0.0              0.0   \n",
              "3                  0.0              0.0                  0.0              0.0   \n",
              "4              54405.0          52471.0              51704.0          51002.0   \n",
              "\n",
              "       advertiser        brand businessMain businessSub  userConvCnt  \n",
              "0         엘오케이(유)          비오템     화장품/생활용품         화장품          NaN  \n",
              "1     사이버한국외국어대학교  사이버한국외국어대학교        교육/출판      사이버대학교          NaN  \n",
              "2       주식회사 노랑풍선         노랑풍선          서비스       여행/숙박          NaN  \n",
              "3  캐나다 관광청, 한국사무소       캐나다관광청       관공서/단체          단체          NaN  \n",
              "4         엘오케이(유)           키엘     화장품/생활용품         화장품          NaN  "
            ]
          },
          "execution_count": 4,
          "metadata": {},
          "output_type": "execute_result"
        }
      ],
      "source": [
        "df = df[df.statDate < '20210501'] ###\n",
        "df.head()"
      ]
    },
    {
      "cell_type": "code",
      "execution_count": null,
      "metadata": {
        "id": "d5CD1vyDe6VI",
        "outputId": "3e8a2e63-0181-427e-8e53-4f2263c4a0b7"
      },
      "outputs": [
        {
          "data": {
            "text/plain": [
              "(27764, 20)"
            ]
          },
          "execution_count": 5,
          "metadata": {},
          "output_type": "execute_result"
        }
      ],
      "source": [
        "df.shape # 27,764*20"
      ]
    },
    {
      "cell_type": "code",
      "execution_count": null,
      "metadata": {
        "scrolled": true,
        "id": "XpkMpXFle6VJ"
      },
      "outputs": [],
      "source": [
        "# 브랜드 및 상품 매핑 자료 업로드\n",
        "# 매월 업데이트 필요\n",
        "query_brand = 'SELECT brandName AS brand, advertiserName AS advertiser, businessMain, businessSub,\\\n",
        "            cmBrandName, cmCompanyName, cmBusinessTypeName, cmCategoryName, cmBrandId, cmCompanyId, cmBusinessTypeId, cmCategoryId\\\n",
        "            FROM naverNospBrand'\n",
        "query_slot = 'SELECT * FROM naverNospSlot'\n",
        "\n",
        "nosp_brand = pd.read_sql(query_brand, conn)\n",
        "nosp_slot = pd.read_sql(query_slot, conn)"
      ]
    },
    {
      "cell_type": "code",
      "execution_count": null,
      "metadata": {
        "id": "2Vqha1dLe6VJ",
        "outputId": "0d713ccf-7241-402f-b66c-857388bdc370"
      },
      "outputs": [
        {
          "name": "stdout",
          "output_type": "stream",
          "text": [
            "50\n"
          ]
        }
      ],
      "source": [
        "# 업데이트 시 브랜드가 없을 경우 csv로 저장 후 브랜드 매핑 작업 후 다시 진행\n",
        "# df2 = df[df.cmBrandId.isnull()]\n",
        "# df2 = df2[['adGroupId','advertiser','brand','businessMain', 'businessSub']]\n",
        "# print(len(df2.drop_duplicates())) # CPMS에 등록되지 않은 브랜드 수: 2,817 ###\n",
        "\n",
        "df2 = pd.merge(df, nosp_brand, how = 'left', on = ['brand', 'advertiser','businessMain', 'businessSub']) ###\n",
        "\n",
        "brandNA = df2[df2.cmBusinessTypeId.isnull()]\n",
        "brandNA = brandNA.drop(['adGroupId'], axis = 1)\n",
        "brandNA = brandNA[['brand','advertiser','businessMain','businessSub','cmBrandId','cmCompanyId','cmBusinessTypeId','cmCategoryId',\n",
        "                   'cmBrandName', 'cmCompanyName','cmBusinessTypeName','cmCategoryName']] ###\n",
        "brandNA = brandNA.drop_duplicates()\n",
        "\n",
        "print(len(brandNA)) # 50\n",
        "brandNA\n",
        "#brandNA.to_csv('/home/anaconda3/da/data/brandNA_naver.csv')"
      ]
    },
    {
      "cell_type": "code",
      "execution_count": null,
      "metadata": {
        "scrolled": true,
        "id": "wTQPh4YIe6VK"
      },
      "outputs": [],
      "source": [
        "# 캠페인 기간을 구하기 위하여 캠페인 시작일, 종료일을 각각 계산\n",
        "start = pd.DataFrame(df['statDate'].groupby(df['adGroupId']).min())\n",
        "end = pd.DataFrame(df['statDate'].groupby(df['adGroupId']).max())\n",
        "print(start.head())\n",
        "print(end.head())"
      ]
    },
    {
      "cell_type": "code",
      "execution_count": null,
      "metadata": {
        "id": "QB0rfxCxe6VK"
      },
      "outputs": [],
      "source": [
        "# 캠페인 상품별(adGroupId 기준) 수치 합계 계산\n",
        "df1 = df[['adGroupId','amtExecution','adCost','impressionCnt','clickCnt', 'firstQuarterPlayCnt', 'midpointPlayCnt', 'thirdQuarterPlayCnt', 'completePlayCnt']]\n",
        "df_summary = df1.groupby(df1['adGroupId']).sum()\n",
        "df_summary.head()"
      ]
    },
    {
      "cell_type": "code",
      "execution_count": null,
      "metadata": {
        "id": "miTi0BZae6VL"
      },
      "outputs": [],
      "source": [
        "# 광고주 CM리포트 기준으로 맞추고 테이블 생성\n",
        "# CPMSDB에 광고주 정보가 등록된 경우는 따로 매핑하지 않아도 되므로 brandId가 없는 캠페인만 등록\n",
        "# CPMSDB는 ID값들만 등록하고 명칭은 따로 등록하지 않음\n",
        "df2 = df2[['adGroupId','cmCompanyName','cmBrandName','cmBusinessTypeName', 'cmCategoryName', 'cmBrandId', 'cmCompanyId', 'cmBusinessTypeId', 'cmCategoryId']]\n",
        "brand = df2.groupby(['adGroupId']).first()\n",
        "# brand2 = df[['adGroupId', 'cmCompanyName','cmBrandName','cmBusinessTypeName', 'cmCategoryName',\n",
        "#              'cmBrandId', 'cmCompanyId', 'cmBusinessTypeId', 'cmCategoryId']].dropna(subset=['cmBrandId']) # 브랜드 정보가 있는 CPMSDB의 데이터 추출 ###\n",
        "# brand2 = brand2.groupby(['adGroupId']).first()\n",
        "\n",
        "# brand = pd.concat([brand, brand2], join = 'outer') # 광고주 정보 이름이 없는 경우도 있음\n",
        "\n",
        "brand.head()"
      ]
    },
    {
      "cell_type": "code",
      "execution_count": null,
      "metadata": {
        "id": "EsJ1fGsMe6VL"
      },
      "outputs": [],
      "source": [
        "nosp_slot.head()"
      ]
    },
    {
      "cell_type": "code",
      "execution_count": null,
      "metadata": {
        "id": "Jip4kLHUe6VL"
      },
      "outputs": [],
      "source": [
        "# 정의되지 않은 상품명 저장\n",
        "df3 = df[['adGroupId','adGroupName', 'adGroupTypeName']]\n",
        "df3 = pd.merge(df3, nosp_slot, how = 'left', on = ['adGroupName', 'adGroupTypeName'])\n",
        "slotNA = df3[df3.cmSlotId.isnull()]\n",
        "slotNA = slotNA.drop(['adGroupId'], axis = 1)\n",
        "slotNA = slotNA.drop_duplicates()\n",
        "print(len(slotNA)) # 3\n",
        "slotNA\n",
        "#slotNA.to_csv('/home/anaconda3/da/data/slotNA_naver.csv')"
      ]
    },
    {
      "cell_type": "code",
      "execution_count": null,
      "metadata": {
        "id": "eHJAMapwe6VM"
      },
      "outputs": [],
      "source": [
        "df3[df3.cmSlotName.isnull()].adGroupName.unique()\n",
        "# 아래 상품 리스트는 테스트 성이거나 데이터가 많지 않아 분석에 활용하지 않음.\n",
        "# M_신제품검색, PM_네이버 동영상_5초 SKIP(비보장), P_서칭뷰(신)"
      ]
    },
    {
      "cell_type": "code",
      "execution_count": null,
      "metadata": {
        "scrolled": true,
        "id": "TOEJaAm6e6VM"
      },
      "outputs": [],
      "source": [
        "# 상품명 완벽 통일 이후 아래 코드 수행\n",
        "df3 = df3[['cmSlotName', 'cmBillingType', 'cmSlotId']]\n",
        "slot = df3.groupby(df['adGroupId']).first()\n",
        "slot.head()"
      ]
    },
    {
      "cell_type": "code",
      "execution_count": null,
      "metadata": {
        "scrolled": true,
        "id": "BVJ4GG55e6VM"
      },
      "outputs": [],
      "source": [
        "# 브랜드, 상품명, 캠페인 시작, 종료일을 포함한 분석 테이블 생성\n",
        "df_temp = pd.merge(df_summary, start, how = 'left', left_index = True, right_index = True)\n",
        "df_temp = pd.merge(df_temp, end, how = 'left', left_index = True, right_index = True)\n",
        "df_temp = pd.merge(df_temp, brand, how = 'left', left_index = True, right_index = True)\n",
        "df_temp = pd.merge(df_temp, slot, how = 'left', left_index = True, right_index = True)\n",
        "\n",
        "print(len(df_temp)) # 3,324\n",
        "df_temp.head()"
      ]
    },
    {
      "cell_type": "code",
      "execution_count": null,
      "metadata": {
        "id": "h6pFUaFZe6VN"
      },
      "outputs": [],
      "source": [
        "# 필요없는 데이터프레임을 삭제하고 메모리 최적화\n",
        "del df1\n",
        "del df2\n",
        "del df3\n",
        "del df_summary\n",
        "del start\n",
        "del end\n",
        "del brand\n",
        "del slot\n",
        "del nosp_slot\n",
        "del nosp_brand\n",
        "\n",
        "gc.collect()"
      ]
    },
    {
      "cell_type": "code",
      "execution_count": null,
      "metadata": {
        "id": "QQItZLTte6VN"
      },
      "outputs": [],
      "source": [
        "# 캠페인 시작일, 종료일의 형식을 바꾸고 기간 계산\n",
        "# 단, 시작일과 종료일이 같은 경우 0으로 나타나므로 +1을 하여 계산\n",
        "df_temp = df_temp.rename(columns = {'statDate_x': 'start', 'statDate_y': 'end'})\n",
        "df_temp['start'] = pd.to_datetime(df_temp['start'], format='%Y%m%d').dt.strftime(\"%Y-%m-%d\").astype('datetime64[ns]')\n",
        "df_temp['end'] = pd.to_datetime(df_temp['end'], format='%Y%m%d').dt.strftime(\"%Y-%m-%d\").astype('datetime64[ns]')\n",
        "\n",
        "df_temp['duration'] = df_temp['end'] - df_temp['start']\n",
        "df_temp['duration'] = df_temp['duration'].astype('timedelta64[D]') + 1 # 캠페인 시작일과 종료일이 같은 경우는 기간이 0 이므로 +1\n",
        "\n",
        "df_temp['startMonth'] = df_temp['start'].dt.month\n",
        "df_temp['startweekday'] = df_temp['start'].dt.weekday\n",
        "\n",
        "df_temp.head()"
      ]
    },
    {
      "cell_type": "code",
      "execution_count": null,
      "metadata": {
        "scrolled": true,
        "id": "7FNc5495e6VN"
      },
      "outputs": [],
      "source": [
        "# 결측값 확인\n",
        "print(df_temp.isnull().sum())\n",
        "print(df_temp[df_temp['impressionCnt'] == 0].count()) # 광고비 기준에서 노출로 변경(광고비는 0이지만 노출 가능!)"
      ]
    },
    {
      "cell_type": "code",
      "execution_count": null,
      "metadata": {
        "scrolled": true,
        "id": "iBgohtqCe6VN"
      },
      "outputs": [],
      "source": [
        "# # 카테고리1 & 슬롯 ID 없는 데이터 제거 (브랜드, 광고주, 카테고리2까지는 없어도 가능하나...최소한 카테고리1 데이터는 있어야 함)\n",
        "# df_temp = df_temp.dropna(subset = ['cmBusinessTypeId'])\n",
        "# df_temp = df_temp.dropna(subset = ['cmSlotId'])\n",
        "# print(len(df_temp)) # 3,290\n",
        "# print(df_temp.isnull().sum())"
      ]
    },
    {
      "cell_type": "code",
      "execution_count": null,
      "metadata": {
        "scrolled": true,
        "id": "sADn_vLVe6VO"
      },
      "outputs": [],
      "source": [
        "# 상품 유형별 구분\n",
        "# 상품명 최종으로 매핑 후 아래 코드로 CM상품명으로 코드 수행\n",
        "df_video = df_temp[df_temp.cmSlotName.str.contains('동영상') == True]\n",
        "df_da = df_temp[df_temp.cmSlotName.str.contains('동영상') == False]\n",
        "df_da_cpm = df_da[df_da.cmBillingType == 'cpm']\n",
        "df_da_cpt = df_da[df_da.cmBillingType == 'cpt']\n",
        "df_da_cpm.head()"
      ]
    },
    {
      "cell_type": "code",
      "execution_count": null,
      "metadata": {
        "scrolled": true,
        "id": "SiC_FW4ne6VO"
      },
      "outputs": [],
      "source": [
        "# 상품별 광고비 비교: 롤링보드 > 브랜딩DA > 화보DA > M 통합 DA > 스마트채널(스마트채널 순위 상승)\n",
        "slot_cost = df_da_cpm['adCost'].groupby(df_da_cpm['cmSlotName']).sum()\n",
        "slot_cost = pd.DataFrame(slot_cost)\n",
        "slot_cost['total'] = slot_cost.adCost.sum()\n",
        "\n",
        "slot_cost['costRatio'] = slot_cost.adCost / slot_cost.total * 100\n",
        "slot_cost.sort_values(by = 'adCost', ascending = False)"
      ]
    },
    {
      "cell_type": "code",
      "execution_count": null,
      "metadata": {
        "scrolled": true,
        "id": "E8Vy3AvUe6VO"
      },
      "outputs": [],
      "source": [
        "# 상품별 캠페인 횟수 비교: 롤링보드 > 브랜딩DA > M 밴드 띠배너 > M 통합 DA > M 웹툰 빅배너\n",
        "slot_count = df_da_cpm['adCost'].groupby(df_da_cpm['cmSlotName']).count()\n",
        "slot_count = pd.DataFrame(slot_count)\n",
        "slot_count['total'] = slot_count.adCost.sum()\n",
        "\n",
        "slot_count['costRatio'] = slot_count.adCost / slot_count.total * 100\n",
        "slot_count.sort_values(by = 'adCost', ascending = False)"
      ]
    },
    {
      "cell_type": "code",
      "execution_count": null,
      "metadata": {
        "scrolled": true,
        "id": "GBg8KCx5e6VP"
      },
      "outputs": [],
      "source": [
        "# 업종별 광고비 비교: 건설, 건재 및 부동산 > 화장품 및 보건용품 > 패션/의류\n",
        "category1_cost = df_da_cpm['adCost'].groupby(df_da_cpm['cmBusinessTypeName']).sum()\n",
        "category1_cost = pd.DataFrame(category1_cost)\n",
        "category1_cost['total'] = category1_cost.adCost.sum()\n",
        "\n",
        "category1_cost['costRatio'] = category1_cost.adCost / category1_cost.total * 100\n",
        "category1_cost.sort_values(by = 'adCost', ascending = False)"
      ]
    },
    {
      "cell_type": "code",
      "execution_count": null,
      "metadata": {
        "id": "QccMrd-Xe6VP"
      },
      "outputs": [],
      "source": [
        "#  광고주별 광고비 비교: 엘오케이 > 리치몬트코리아 > 부영주택 > SK건설 > 제일건설\n",
        "advertiser_cost = df_da_cpm['adCost'].groupby(df_da_cpm['cmCompanyName']).sum()\n",
        "advertiser_cost = pd.DataFrame(advertiser_cost)\n",
        "advertiser_cost['total'] = advertiser_cost.adCost.sum()\n",
        "\n",
        "advertiser_cost['costRatio'] = advertiser_cost.adCost / advertiser_cost.total * 100\n",
        "advertiser_cost.sort_values(by = 'adCost', ascending = False)"
      ]
    },
    {
      "cell_type": "code",
      "execution_count": null,
      "metadata": {
        "id": "22oCZEQae6VP"
      },
      "outputs": [],
      "source": [
        "#  브랜드별 광고비 비교: SK뷰 > 창원월영마린애시앙 > 입생로랑 > 제일풍경채 > 반클리프아펠\n",
        "brand_cost = df_da_cpm['adCost'].groupby(df_da_cpm['cmBrandName']).sum()\n",
        "brand_cost = pd.DataFrame(brand_cost)\n",
        "brand_cost['total'] = brand_cost.adCost.sum()\n",
        "\n",
        "brand_cost['costRatio'] = brand_cost.adCost / brand_cost.total * 100\n",
        "brand_cost.sort_values(by = 'adCost', ascending = False)"
      ]
    },
    {
      "cell_type": "code",
      "execution_count": null,
      "metadata": {
        "scrolled": true,
        "id": "-DwEUVXhe6VP"
      },
      "outputs": [],
      "source": [
        "# 광고주, 브랜드, 카테고리1, 카테고리2 별로 캠페인 횟수 막대그래프로 확인\n",
        "category_feature = ['cmCompanyName', 'cmBrandName', 'cmBusinessTypeName', 'cmCategoryName']\n",
        "\n",
        "for col in category_feature:\n",
        "    plt.figure(figsize = (20,5))\n",
        "    df_da_cpm[col].value_counts().plot(kind = 'bar')\n",
        "    plt.title(col)\n",
        "    plt.show()"
      ]
    },
    {
      "cell_type": "code",
      "execution_count": null,
      "metadata": {
        "scrolled": true,
        "id": "vLW6EerUe6VQ"
      },
      "outputs": [],
      "source": [
        "# 수치형 변수들의 분포 확인: 대부분의 캠페인 기간이 일주일 단위로 이루어짐\n",
        "numerical_feature = ['amtExecution', 'adCost', 'impressionCnt', 'clickCnt', 'duration', 'startMonth', 'startweekday']\n",
        "\n",
        "for col in numerical_feature:\n",
        "    sns.distplot(df_da_cpm.loc[df_da_cpm[col].notnull(), col], kde_kws = {\"bw\": 1.5})\n",
        "    plt.title(col)\n",
        "    plt.show()"
      ]
    },
    {
      "cell_type": "code",
      "execution_count": null,
      "metadata": {
        "scrolled": true,
        "id": "Z0u7C7oue6VQ"
      },
      "outputs": [],
      "source": [
        "for col in numerical_feature:\n",
        "    plt.figure(figsize=(18,6))\n",
        "    sns.boxplot(x = 'cmBusinessTypeName', y = col, data = df_da_cpm)\n",
        "    plt.title('CM_카테고리1 - {}'.format(col))\n",
        "    plt.xlabel('CM_카테고리1')\n",
        "    plt.show()"
      ]
    },
    {
      "cell_type": "code",
      "execution_count": null,
      "metadata": {
        "id": "jNrHYeEfe6VQ"
      },
      "outputs": [],
      "source": [
        "# 수치들의 왜도, 첨도 확인\n",
        "print(\"Skewness: %f\" % df_temp['amtExecution'].skew())\n",
        "print(\"Kurtosis: %f\" % df_temp['amtExecution'].kurt())"
      ]
    },
    {
      "cell_type": "code",
      "execution_count": null,
      "metadata": {
        "id": "wphOv5vue6VQ"
      },
      "outputs": [],
      "source": [
        "sns.pairplot(x_vars=[\"clickCnt\"], y_vars=[\"amtExecution\"], data = df_da_cpm, hue=\"cmSlotName\", size=5)"
      ]
    },
    {
      "cell_type": "code",
      "execution_count": null,
      "metadata": {
        "scrolled": false,
        "id": "za2gKKBie6VR"
      },
      "outputs": [],
      "source": [
        "# 변수들간의 상관관계 그래프로 확인\n",
        "corrmat = df_da_cpm.corr()\n",
        "f, ax = plt.subplots(figsize = (12, 9))\n",
        "sns.heatmap(corrmat, vmax=.8, square=True)"
      ]
    },
    {
      "cell_type": "markdown",
      "source": [
        "### 3. 모형 구축\n",
        "---"
      ],
      "metadata": {
        "id": "tX9fSy7bgOUx"
      }
    },
    {
      "cell_type": "markdown",
      "source": [
        "#### 1) LightGBM 모델: 직접 CTR을 label로 잡아서 추정하는 모델"
      ],
      "metadata": {
        "id": "0SH6kHG2gXOJ"
      }
    },
    {
      "cell_type": "code",
      "execution_count": null,
      "metadata": {
        "scrolled": true,
        "id": "KK7jqQPie6VR"
      },
      "outputs": [],
      "source": [
        "# 분석에 필요한 변수만 추출\n",
        "df_da_cpm = df_da_cpm[['startMonth', 'startweekday', 'duration', 'cmBrandId', 'cmBrandName', \n",
        "                       'cmCompanyId', 'cmCompanyName', 'cmBusinessTypeId', 'cmBusinessTypeName', 'cmCategoryId', \n",
        "                       'cmCategoryName', 'cmSlotId', 'cmSlotName', 'amtExecution', 'adCost', 'impressionCnt', 'clickCnt']]\n",
        "\n",
        "# CTR 계산\n",
        "df_da_cpm['ctr'] = df_da_cpm.clickCnt / df_da_cpm.impressionCnt * 100\n",
        "df_da_cpm.head()"
      ]
    },
    {
      "cell_type": "code",
      "execution_count": null,
      "metadata": {
        "id": "MtYglSHye6VR"
      },
      "outputs": [],
      "source": [
        "# 분석하고자 하는 변수 선택\n",
        "label_ctr = 'ctr'\n",
        "feature_ctr = ['amtExecution', 'startMonth', 'startweekday', 'cmBrandId', 'cmCompanyId','cmBusinessTypeId', 'cmCategoryId', 'cmSlotId']\n",
        "\n",
        "X_ctr = df_da_cpm[feature_ctr]\n",
        "y_ctr = df_da_cpm[label_ctr]"
      ]
    },
    {
      "cell_type": "code",
      "execution_count": null,
      "metadata": {
        "id": "DxHukbU9e6VS"
      },
      "outputs": [],
      "source": [
        "# 변수의 왜도와 첨도 모두 높을 경우 변환 처리\n",
        "X_ctr = X_ctr + 1 # boxcox 변환은 0보다 큰 값만 변환 가능\n",
        "X_ctr_amtExecution, fitted_lambda = stats.boxcox(X_ctr.amtExecution)\n",
        "np.save('/home/anaconda3/da/data/nosp_cpm/fitted_lambda_cpm', fitted_lambda) # 람다값 저장(CPMS에서 입력되는 값은 원래값 변환을 위해 저장)\n",
        "\n",
        "boxcox = pd.DataFrame(X_ctr_amtExecution)\n",
        "boxcox_table = pd.concat([X_ctr.amtExecution, boxcox], axis = 1)\n",
        "X_ctr.amtExecution = X_ctr_amtExecution\n",
        "print(X_ctr.head())"
      ]
    },
    {
      "cell_type": "code",
      "execution_count": null,
      "metadata": {
        "id": "1r77RoQGe6VS"
      },
      "outputs": [],
      "source": [
        "# boxcox 변환은 0보다 큰 값만 변환할 수 있으므로 1을 더해주어 분석하고 추정값을 역변환 후 1을 빼준다.\n",
        "y_ctr = y_ctr + 1\n",
        "boxcox_y_ctr = stats.boxcox(y_ctr, fitted_lambda)\n",
        "y_ctr = pd.DataFrame(boxcox_y_ctr)"
      ]
    },
    {
      "cell_type": "code",
      "execution_count": null,
      "metadata": {
        "id": "gChRXM-0e6VS"
      },
      "outputs": [],
      "source": [
        "# 트레이닝 / 테스트 셋으로 데이터 분리\n",
        "from sklearn.model_selection import train_test_split\n",
        "\n",
        "X_train_ctr, X_test_ctr, y_train_ctr, y_test_ctr = train_test_split(X_ctr, y_ctr, test_size=0.3, random_state=42)\n",
        "\n",
        "test_set_1 = X_test_ctr.copy()\n",
        "test_set_1['ctr'] = y_test_ctr\n",
        "\n",
        "print(X_train_ctr.shape, y_train_ctr.shape) # 1,085\n",
        "print(X_test_ctr.shape, y_test_ctr.shape) # 465"
      ]
    },
    {
      "cell_type": "code",
      "execution_count": null,
      "metadata": {
        "id": "PRvBKaKke6VS"
      },
      "outputs": [],
      "source": [
        "# GBM 모델을 수행하기 위한 데이터 셋 구성\n",
        "train_ctr_ds = lgb.Dataset(X_train_ctr, label = y_train_ctr) \n",
        "test_ctr_ds = lgb.Dataset(X_test_ctr, label = y_test_ctr)"
      ]
    },
    {
      "cell_type": "code",
      "execution_count": null,
      "metadata": {
        "id": "1pTDw6v0e6VT"
      },
      "outputs": [],
      "source": [
        "# 최적의 learning_rate 설정\n",
        "np.random.seed(1) # seed 고정\n",
        "\n",
        "num_epoch = 100\n",
        "\n",
        "best_r2 = 0\n",
        "best_epoch = None\n",
        "best_learning_rate = None\n",
        "\n",
        "for epoch in range(num_epoch):\n",
        "    \n",
        "    learning_rate = np.random.uniform(low = 0 , high = 1)\n",
        "    \n",
        "    params_ctr = {'n_estimators': 100,\n",
        "              'learning_rate': learning_rate,\n",
        "              'boosting': 'gbdt', \n",
        "              'objective': 'regression', \n",
        "              'metric': 'mse', \n",
        "              'is_training_metric': True, \n",
        "              'random_state':42}\n",
        "    \n",
        "    model_ctr = lgb.train(params_ctr, train_ctr_ds)\n",
        "\n",
        "    predict_train_ctr = model_ctr.predict(X_train_ctr)\n",
        "    predict_test_ctr = model_ctr.predict(X_test_ctr)\n",
        "\n",
        "    # boxcox 역치환\n",
        "    y_test_ctr_inv = inv_boxcox(y_test_ctr, fitted_lambda)\n",
        "    y_test_ctr_inv = y_test_ctr_inv - 1\n",
        "\n",
        "    predict_test_ctr_inv = inv_boxcox(predict_test_ctr, fitted_lambda)\n",
        "    predict_test_ctr_inv = predict_test_ctr_inv - 1\n",
        "\n",
        "    predict_test_ctr_inv = pd.DataFrame(predict_test_ctr_inv)\n",
        "    predict_test_ctr_inv[predict_test_ctr_inv < 0].count()\n",
        "\n",
        "    # 다양한 형태의 연속형 값의 'GBM'모델 예측 정확도 확인\n",
        "#     mse_ctr = mean_squared_error(y_test_ctr_inv, predict_test_ctr_inv)\n",
        "#     rmse_ctr = mean_squared_error(y_test_ctr_inv, predict_test_ctr_inv)**0.5\n",
        "#     mape_ctr = abs(y_test_ctr_inv - predict_test_ctr_inv)/y_test_ctr_inv\n",
        "#     mape_ctr = mape_ctr.mean()\n",
        "    r2_ctr = r2_score(y_test_ctr_inv, predict_test_ctr_inv)\n",
        "    \n",
        "    if r2_ctr > best_r2:\n",
        "        \n",
        "        best_r2 = r2_ctr\n",
        "        best_epoch = epoch\n",
        "        best_learning_rate = learning_rate\n",
        "\n",
        "        print(\"epoch = {0: 4}, n_estimators = 100, learning_rate = {1: .3f}, R2 = {2: .4f}\".format(epoch, learning_rate, r2_ctr))\n",
        "\n",
        "print(\"----\" * 15)\n",
        "print(\"epoch = {0: 4}, n_estimators = 100, learning_rate = {1: .3f}, R2 = {2: .4f}\".format(best_epoch, best_learning_rate, best_r2))\n",
        "# n_estimators =  100, learning_rate =  0.288, R2 =  0.8097"
      ]
    },
    {
      "cell_type": "code",
      "execution_count": null,
      "metadata": {
        "id": "hWdtcScWe6VT"
      },
      "outputs": [],
      "source": [
        "# 최적의 n_estimotrs 설정\n",
        "n_estimators = [100, 300, 500, 1000, 5000, 10000]\n",
        "\n",
        "best_r2 = 0\n",
        "best_epoch = None\n",
        "best_n_estimators = None\n",
        "\n",
        "for epoch in range(len(n_estimators)):\n",
        "    \n",
        "    learning_rate = 100 / n_estimators[epoch] * best_learning_rate\n",
        "    \n",
        "    params_ctr = {'n_estimators': n_estimators[epoch],\n",
        "              'learning_rate': learning_rate,\n",
        "              'boosting': 'gbdt', \n",
        "              'objective': 'regression', \n",
        "              'metric': 'mse', \n",
        "              'is_training_metric': True, \n",
        "              'random_state':42}\n",
        "    \n",
        "    model_ctr = lgb.train(params_ctr, train_ctr_ds)\n",
        "\n",
        "    predict_train_ctr = model_ctr.predict(X_train_ctr)\n",
        "    predict_test_ctr = model_ctr.predict(X_test_ctr)\n",
        "\n",
        "    # boxcox 역치환\n",
        "    y_test_ctr_inv = inv_boxcox(y_test_ctr, fitted_lambda)\n",
        "    y_test_ctr_inv = y_test_ctr_inv - 1\n",
        "\n",
        "    predict_test_ctr_inv = inv_boxcox(predict_test_ctr, fitted_lambda)\n",
        "    predict_test_ctr_inv = predict_test_ctr_inv - 1\n",
        "\n",
        "    predict_test_ctr_inv = pd.DataFrame(predict_test_ctr_inv)\n",
        "    predict_test_ctr_inv[predict_test_ctr_inv < 0].count()\n",
        "\n",
        "    # 다양한 형태의 연속형 값의 'GBM'모델 예측 정확도 확인\n",
        "#     mse_ctr = mean_squared_error(y_test_ctr_inv, predict_test_ctr_inv)\n",
        "#     rmse_ctr = mean_squared_error(y_test_ctr_inv, predict_test_ctr_inv)**0.5\n",
        "#     mape_ctr = abs(y_test_ctr_inv - predict_test_ctr_inv)/y_test_ctr_inv\n",
        "#     mape_ctr = mape_ctr.mean()\n",
        "    r2_ctr = r2_score(y_test_ctr_inv, predict_test_ctr_inv)\n",
        "    \n",
        "    if r2_ctr > best_r2:\n",
        "        \n",
        "        best_r2 = r2_ctr\n",
        "        best_epoch = epoch\n",
        "        best_n_estimators = n_estimators[epoch]\n",
        "        best_learning_rate2 = learning_rate\n",
        "        \n",
        "        print(\"epoch = {0: 4}, n_estimators = {1: 4}, learning_rate = {2: .3f}, R2 = {3: .4f}\".format(epoch, n_estimators[epoch], learning_rate, r2_ctr))\n",
        "        \n",
        "print(\"----\" * 15)\n",
        "print(\"epoch = {0: 4}, n_estimators = {1: 4}, learning_rate = {2: .3f}, R2 = {3: .4f}\".format(best_epoch, best_n_estimators, best_learning_rate2, best_r2))\n",
        "# n_estimators =  100, learning_rate =  0.288, R2 =  0.8097(최종)"
      ]
    },
    {
      "cell_type": "code",
      "execution_count": null,
      "metadata": {
        "id": "ikPAGkK6e6VU"
      },
      "outputs": [],
      "source": [
        "# 하이퍼 파라미터 세팅 (업데이트 마다 최적값으로 변경)\n",
        "# n_estimators, learning_rate 이외의 하이퍼파라미터는 큰 차이가 없어 제외하였음.\n",
        "params_ctr = {'n_estimators': best_n_estimators,\n",
        "              'learning_rate': best_learning_rate2,\n",
        "              'boosting': 'gbdt', \n",
        "              'objective': 'regression', \n",
        "              'metric': 'mse', \n",
        "              'is_training_metric': True, \n",
        "              'random_state':42}\n",
        "\n",
        "model_ctr = lgb.train(params_ctr, train_ctr_ds)"
      ]
    },
    {
      "cell_type": "code",
      "execution_count": null,
      "metadata": {
        "id": "43_GEhcse6VV"
      },
      "outputs": [],
      "source": [
        "# LightGBM Feature Importance: amtExecution > cmBrandId > startMonth\n",
        "fig, ax = plt.subplots(figsize=(15, 7))\n",
        "lgb.plot_importance(model_ctr, max_num_features=30, ax=ax)\n",
        "plt.title(\"LightGBM - Feature Importance\")"
      ]
    },
    {
      "cell_type": "code",
      "execution_count": null,
      "metadata": {
        "scrolled": true,
        "id": "vmv5U2Tze6VW"
      },
      "outputs": [],
      "source": [
        "# plt.scatter(y_test_ctr_inv, predict_test_ctr_inv)\n",
        "# ax = sns.regplot(x = y_test_ctr_inv, y = predict_test_ctr_inv)\n",
        "# ax.figure.set_size_inches(6, 6)"
      ]
    },
    {
      "cell_type": "code",
      "execution_count": null,
      "metadata": {
        "id": "WuNxllFXe6VX"
      },
      "outputs": [],
      "source": [
        "from sklearn.externals import joblib\n",
        "\n",
        "# joblib.dump(model_ctr, '/home/anaconda3/da/data/nosp_cpm/nosp_cpm_model.pkl') # 모델 저장"
      ]
    },
    {
      "cell_type": "code",
      "execution_count": null,
      "metadata": {
        "id": "SP3NUcPRe6VY"
      },
      "outputs": [],
      "source": []
    }
  ],
  "metadata": {
    "kernelspec": {
      "display_name": "Python 3",
      "language": "python",
      "name": "python3"
    },
    "language_info": {
      "codemirror_mode": {
        "name": "ipython",
        "version": 3
      },
      "file_extension": ".py",
      "mimetype": "text/x-python",
      "name": "python",
      "nbconvert_exporter": "python",
      "pygments_lexer": "ipython3",
      "version": "3.6.10"
    },
    "colab": {
      "provenance": [],
      "toc_visible": true
    }
  },
  "nbformat": 4,
  "nbformat_minor": 0
}